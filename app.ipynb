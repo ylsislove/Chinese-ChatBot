{
 "nbformat": 4,
 "nbformat_minor": 2,
 "metadata": {
  "language_info": {
   "name": "python",
   "codemirror_mode": {
    "name": "ipython",
    "version": 3
   },
   "version": "3.7.0"
  },
  "orig_nbformat": 2,
  "file_extension": ".py",
  "mimetype": "text/x-python",
  "name": "python",
  "npconvert_exporter": "python",
  "pygments_lexer": "ipython3",
  "version": 3
 },
 "cells": [
  {
   "cell_type": "code",
   "execution_count": 1,
   "metadata": {},
   "outputs": [],
   "source": [
    "# coding=utf-8\n",
    "from flask import Flask, render_template, request,jsonify\n",
    "import execute\n",
    "import time\n",
    "import threading\n",
    "import jieba"
   ]
  },
  {
   "cell_type": "code",
   "execution_count": 2,
   "metadata": {},
   "outputs": [],
   "source": [
    "\"\"\"\n",
    "定义心跳检测函数\n",
    "\"\"\"\n",
    "def heartbeat():\n",
    "    print (time.strftime('%Y-%m-%d %H:%M:%S - heartbeat', time.localtime(time.time())))\n",
    "timer = threading.Timer(60, heartbeat)\n",
    "timer.start()\n",
    "\n",
    "# 实例化一个flask\n",
    "app = Flask(__name__, static_url_path = \"/static\") \n",
    "\n",
    "# 定义应答函数，用于获取输入信息并返回相应的答案\n",
    "@app.route('/message', methods=['POST'])\n",
    "def reply():\n",
    "    # 从请求中获取参数信息\n",
    "    req_msg = request.form['msg']\n",
    "    # 将语句使用结巴分词进行分词\n",
    "    req_msg = \" \".join(jieba.cut(req_msg))\n",
    "    #调用execute.predict对生成回答信息\n",
    "    res_msg = execute.predict(req_msg)\n",
    "    #将unk值的词用微笑符号代替\n",
    "    res_msg = res_msg.replace('_UNK', '^_^')\n",
    "    res_msg = res_msg.strip()\n",
    "    \n",
    "    # 如果接受到的内容为空，则给出相应的回复\n",
    "    if res_msg == '':\n",
    "      res_msg = '请与我聊聊天吧'\n",
    "\n",
    "    # jsonify:是用于处理序列化json数据的函数，就是将数据组装成json格式返回\n",
    "    return jsonify( { 'text': res_msg } )\n",
    "\n",
    "@app.route(\"/\")\n",
    "def index(): \n",
    "    return render_template(\"index.html\")"
   ]
  },
  {
   "cell_type": "code",
   "execution_count": 3,
   "metadata": {},
   "outputs": [
    {
     "name": "stdout",
     "output_type": "stream",
     "text": "* Serving Flask app \"__main__\" (lazy loading)\n * Environment: production\n   WARNING: Do not use the development server in a production environment.\n   Use a production WSGI server instead.\n * Debug mode: off\nBuilding prefix dict from the default dictionary ...\nWARNING: Logging before flag parsing goes to stderr.\nI1124 04:11:35.697260 268152 __init__.py:111] Building prefix dict from the default dictionary ...\nLoading model from cache C:\\Users\\APPLE_~1\\AppData\\Local\\Temp\\jieba.cache\nI1124 04:11:35.701250 268152 __init__.py:131] Loading model from cache C:\\Users\\APPLE_~1\\AppData\\Local\\Temp\\jieba.cache\nLoading model cost 1.174 seconds.\nI1124 04:11:36.875475 268152 __init__.py:163] Loading model cost 1.174 seconds.\nPrefix dict has been built succesfully.\nI1124 04:11:36.878436 268152 __init__.py:164] Prefix dict has been built succesfully.\n2019-11-24 04:11:50 - heartbeat\n"
    }
   ],
   "source": [
    "app.run(host = '0.0.0.0', port = 8808)"
   ]
  },
  {
   "cell_type": "code",
   "execution_count": null,
   "metadata": {},
   "outputs": [],
   "source": []
  }
 ]
}